{
 "cells": [
  {
   "cell_type": "markdown",
   "metadata": {},
   "source": [
    "## Things to clarify:\n",
    "\n",
    "1) What are the differences between how Ryan calls files and how Takaya did it?\n",
    "\n",
    "2) How can I view the directory where the various datasets are stored?\n",
    "\n",
    "3) What is the difference between xf.dft() and xf.isotropic_powerspectrum()\n",
    "\n",
    "4) Why isn't LaTex working in this notebook?\n"
   ]
  },
  {
   "cell_type": "code",
   "execution_count": null,
   "metadata": {
    "collapsed": true
   },
   "outputs": [],
   "source": [
    "import numpy as np\n",
    "import xarray as xr\n",
    "import dask\n",
    "import xrft as xf\n",
    "import xgcm as xg\n",
    "import xmitgcm\n",
    "import scipy.interpolate as intp\n",
    "import os.path as op\n",
    "from glob import glob\n",
    "import matplotlib.colors as colors\n",
    "import matplotlib.pyplot as plt\n",
    "%matplotlib inline"
   ]
  },
  {
   "cell_type": "markdown",
   "metadata": {},
   "source": [
    "## I'm not sure how these pathname manipulations work. \n",
    "\n",
    "## How would I select other files?\n",
    "\n",
    "## How can I see all the files that are available and figure out what they are?\n"
   ]
  },
  {
   "cell_type": "code",
   "execution_count": null,
   "metadata": {},
   "outputs": [],
   "source": [
    "ddir = '/swot/SUM01/LLC/llc_4320_agulhas/'\n",
    "fname = op.join(ddir, 'llc_4320_agulhas.0000010368.nc')\n",
    "gname = ddir + 'llc_4320_agulhas.01.nc'\n",
    "\n",
    "print(fname,\"BREAK\", gname)"
   ]
  },
  {
   "cell_type": "code",
   "execution_count": null,
   "metadata": {},
   "outputs": [],
   "source": [
    "grid_ds"
   ]
  },
  {
   "cell_type": "code",
   "execution_count": null,
   "metadata": {},
   "outputs": [],
   "source": [
    "#create dataset\n",
    "ds = xr.open_dataset(fname, decode_cf=False, autoclose=True)\n",
    "#ds = xr.open_mfdataset(all_files[:10], decode_cf=False, autoclose=True)\n",
    "grid_ds = xr.open_dataset(ddir + 'llc_4320_agulhas_grid.nc').chunk()\n",
    "ds = xr.merge([grid_ds, ds.drop('face')], )\n",
    "ds = xmitgcm.mds_store._swap_dimensions(ds, geometry='sphericalpolar')\n",
    "for coord in ds.coords"
   ]
  },
  {
   "cell_type": "code",
   "execution_count": null,
   "metadata": {
    "collapsed": true
   },
   "outputs": [],
   "source": []
  },
  {
   "cell_type": "code",
   "execution_count": null,
   "metadata": {
    "collapsed": true
   },
   "outputs": [],
   "source": [
    "#create dataset\n",
    "\n",
    "ds = xr.open_mfdataset(all_files[:10], decode_cf=False, autoclose=True)\n",
    "ds = ds.set_coords(['iter', 'face'])\n"
   ]
  },
  {
   "cell_type": "markdown",
   "metadata": {},
   "source": [
    "## Below is how Ryan created the dataset. How is this different from what Takaya did above?"
   ]
  },
  {
   "cell_type": "markdown",
   "metadata": {},
   "source": [
    "## regarding the top cell:\n",
    "\n",
    "ddir = ... is the same\n",
    "\n",
    "all_files = ... creates a list of files by joining dataset with llc_4320_agulhas.0* *(all time stamps)\n",
    "sorted() arranges by time stamp\n"
   ]
  },
  {
   "cell_type": "code",
   "execution_count": null,
   "metadata": {
    "collapsed": true
   },
   "outputs": [],
   "source": [
    "#identify desired dataset path\n",
    "\n",
    "#ddir = '/swot/SUM01/LLC/llc_4320_agulhas/'\n",
    "#all_files = glob(os.path.join(ddir, 'llc_4320_agulhas.0*.nc'))\n",
    "#all_files = sorted(all_files)\n"
   ]
  },
  {
   "cell_type": "code",
   "execution_count": null,
   "metadata": {
    "collapsed": true
   },
   "outputs": [],
   "source": [
    "temp = ds.Theta[0]\n",
    "temp\n",
    "ds.Theta"
   ]
  },
  {
   "cell_type": "code",
   "execution_count": null,
   "metadata": {
    "collapsed": true
   },
   "outputs": [],
   "source": [
    "temp[0].plot()"
   ]
  },
  {
   "cell_type": "code",
   "execution_count": null,
   "metadata": {
    "collapsed": true
   },
   "outputs": [],
   "source": [
    "temp_chunk = temp.sel(i=slice(2000,2480), j=slice(500,980))"
   ]
  },
  {
   "cell_type": "code",
   "execution_count": null,
   "metadata": {
    "collapsed": true
   },
   "outputs": [],
   "source": [
    "temp_chunk.plot()"
   ]
  },
  {
   "cell_type": "markdown",
   "metadata": {},
   "source": [
    "## xfrt is called as xf, and a discrete fourier transform is called as xf.dft(dataset)\n",
    "\n",
    "Why doesn't this work if we transform to spherical variables? Does that not yield regular gridding?\n"
   ]
  },
  {
   "cell_type": "code",
   "execution_count": null,
   "metadata": {
    "collapsed": true
   },
   "outputs": [],
   "source": [
    "df_temp_surf = xf.dft(temp_chunk[0])\n",
    "df_temp_surf"
   ]
  },
  {
   "cell_type": "code",
   "execution_count": null,
   "metadata": {
    "collapsed": true
   },
   "outputs": [],
   "source": [
    "plt.plot(np.real(df_temp))"
   ]
  },
  {
   "cell_type": "markdown",
   "metadata": {},
   "source": [
    "## plt.pcolormesh creates a plot similar to plt.contour, but each cell is filled in with the appropriate color (as opposed to contour levels)\n",
    "\n",
    "## df_temp_surf * np.conj(df_temp_surf) plots the power of the fourier transform (norm squared); the real part is taken due to numerical error; i.e., there is a nonzero (but presumably very small) imaginary part because of incomplete cancellation due to numerical error"
   ]
  },
  {
   "cell_type": "code",
   "execution_count": null,
   "metadata": {
    "collapsed": true
   },
   "outputs": [],
   "source": [
    "plt.pcolormesh(np.real(df_temp_surf*np.conj(df_temp_surf)), norm=colors.LogNorm())\n",
    "plt.colorbar()"
   ]
  },
  {
   "cell_type": "code",
   "execution_count": null,
   "metadata": {
    "collapsed": true
   },
   "outputs": [],
   "source": [
    "help(xf.isotropic_powerspectrum)\n",
    "help(xf.dft)"
   ]
  },
  {
   "cell_type": "markdown",
   "metadata": {},
   "source": [
    "## What is the difference between xf.isotropic_powerspectrum and xf.dft?"
   ]
  },
  {
   "cell_type": "code",
   "execution_count": null,
   "metadata": {
    "collapsed": true,
    "scrolled": true
   },
   "outputs": [],
   "source": [
    "isospec_temp = xf.isotropic_powerspectrum(temp_chunk[0])\n",
    "isospec_temp"
   ]
  },
  {
   "cell_type": "markdown",
   "metadata": {},
   "source": [
    "## Why isn't LaTex working below?\n"
   ]
  },
  {
   "cell_type": "markdown",
   "metadata": {},
   "source": [
    "$b = -g \\frac{\\delta \\rho}{\\rho_0}$"
   ]
  },
  {
   "cell_type": "code",
   "execution_count": null,
   "metadata": {
    "collapsed": true
   },
   "outputs": [],
   "source": [
    "plt.loglog(isospec_temp.freq_r.values, isospec_temp.values)"
   ]
  },
  {
   "cell_type": "code",
   "execution_count": null,
   "metadata": {
    "collapsed": true
   },
   "outputs": [],
   "source": [
    "axes = plt.subplot(111)\n",
    "axes.plot(isospec_temp.freq_r.values, isospec_temp.values)\n",
    "axes.set_xlim(0, .02)\n",
    "plt.show()"
   ]
  },
  {
   "cell_type": "code",
   "execution_count": null,
   "metadata": {
    "collapsed": true
   },
   "outputs": [],
   "source": []
  }
 ],
 "metadata": {
  "anaconda-cloud": {},
  "kernelspec": {
   "display_name": "llc_project (Python 3)",
   "language": "python",
   "name": "llc_project"
  },
  "language_info": {
   "codemirror_mode": {
    "name": "ipython",
    "version": 3
   },
   "file_extension": ".py",
   "mimetype": "text/x-python",
   "name": "python",
   "nbconvert_exporter": "python",
   "pygments_lexer": "ipython3",
   "version": "3.5.3"
  }
 },
 "nbformat": 4,
 "nbformat_minor": 2
}
