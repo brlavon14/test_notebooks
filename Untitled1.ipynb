{
 "cells": [
  {
   "cell_type": "code",
   "execution_count": null,
   "metadata": {
    "collapsed": true
   },
   "outputs": [],
   "source": [
    "import dask\n",
    "import numpy as np\n",
    "import matplotlib.pyplot as plt\n",
    "import xrft\n",
    "import scipy\n",
    "import xarray as xr\n",
    "%matplotlib inline"
   ]
  },
  {
   "cell_type": "code",
   "execution_count": null,
   "metadata": {},
   "outputs": [],
   "source": [
    "x = np.linspace(-2, 2, 200)\n",
    "f = np.cos(2*np.pi*x)\n",
    "d = x[1]-x[0]\n",
    "window = scipy.signal.hann(100)\n",
    "window1 = np.zeros(200)\n",
    "window1[50:150]=window\n",
    "\n",
    "transform_f = np.fft.fft(f)\n",
    "transform_f_window = np.fft.fft(f*window1)\n",
    "trans_of_window = np.fft.fft(window1)\n",
    "\n",
    "product_freq_dom = np.convolve(trans_of_window, transform_f)\n",
    "\n",
    "freq_f = np.fft.fftfreq(200, d = d)\n",
    "\n",
    "\n",
    "f_xr = xr.DataArray(f, dims=['x'], coords={'x': x})\n",
    "transform_xr_window = xrft.dft(f_xr, window = True)\n",
    "transform_xr = xrft.dft(f_xr )"
   ]
  },
  {
   "cell_type": "code",
   "execution_count": null,
   "metadata": {
    "collapsed": true
   },
   "outputs": [],
   "source": []
  },
  {
   "cell_type": "code",
   "execution_count": null,
   "metadata": {},
   "outputs": [],
   "source": [
    "fig = plt.figure()\n",
    "ax = fig.add_subplot(111)\n",
    "#ax.plot(x, f)\n",
    "#ax.plot(x, window1)\n",
    "ax.plot(x, window1*f)\n",
    "\n",
    "plt.show()\n"
   ]
  },
  {
   "cell_type": "code",
   "execution_count": null,
   "metadata": {},
   "outputs": [],
   "source": [
    "fig = plt.figure()\n",
    "ax = fig.add_subplot(111)\n",
    "#ax.plot(freq_f[0:50], abs(transform_f[0:50]))\n",
    "#ax.plot(freq_f[0:50], abs(transform_f_window[0:50]))\n",
    "ax.plot(freq_f, product_freq_dom)\n",
    "ax.set_xticks(np.arange(0, 26))\n",
    "plt.show()"
   ]
  },
  {
   "cell_type": "code",
   "execution_count": null,
   "metadata": {},
   "outputs": [],
   "source": [
    "\n"
   ]
  },
  {
   "cell_type": "code",
   "execution_count": null,
   "metadata": {},
   "outputs": [],
   "source": [
    "#abs(transform_xr.sel(freq_x = slice(0, np.infty))).plot()\n",
    "abs(transform_xr_window.sel(freq_x = slice(0, np.infty))).plot()"
   ]
  },
  {
   "cell_type": "code",
   "execution_count": null,
   "metadata": {},
   "outputs": [],
   "source": [
    "(np.conj(transform_xr_window)*transform_xr_window).plot()"
   ]
  },
  {
   "cell_type": "code",
   "execution_count": null,
   "metadata": {},
   "outputs": [],
   "source": [
    "f_xr.plot()"
   ]
  },
  {
   "cell_type": "code",
   "execution_count": null,
   "metadata": {
    "collapsed": true
   },
   "outputs": [],
   "source": []
  }
 ],
 "metadata": {
  "anaconda-cloud": {},
  "kernelspec": {
   "display_name": "llc_project (Python 3)",
   "language": "python",
   "name": "llc_project"
  },
  "language_info": {
   "codemirror_mode": {
    "name": "ipython",
    "version": 3
   },
   "file_extension": ".py",
   "mimetype": "text/x-python",
   "name": "python",
   "nbconvert_exporter": "python",
   "pygments_lexer": "ipython3",
   "version": "3.5.3"
  }
 },
 "nbformat": 4,
 "nbformat_minor": 2
}
