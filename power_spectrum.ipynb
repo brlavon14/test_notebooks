{
 "cells": [
  {
   "cell_type": "code",
   "execution_count": 1,
   "metadata": {
    "collapsed": true
   },
   "outputs": [],
   "source": [
    "import numpy as np\n",
    "import xarray as xr\n",
    "import dask\n",
    "import xrft\n",
    "import xgcm\n",
    "import xmitgcm\n",
    "import scipy.interpolate as int\n",
    "import os.path as op\n",
    "from glob import glob\n",
    "import matplotlib.colors as colors\n",
    "import matplotlib.pyplot as plt\n",
    "import scipy\n",
    "\n",
    "import re\n",
    "import traceback\n",
    "\n",
    "\n",
    "\n",
    "%matplotlib inline"
   ]
  },
  {
   "cell_type": "code",
   "execution_count": 2,
   "metadata": {
    "collapsed": true
   },
   "outputs": [],
   "source": [
    "ddir = '/swot/SUM01/LLC/llc_4320_agulhas/'\n",
    "fname = op.join(ddir, 'llc_4320_agulhas.0000010368.nc')\n",
    "gname = ddir + 'llc_4320_agulhas.01.nc'\n",
    "\n"
   ]
  },
  {
   "cell_type": "markdown",
   "metadata": {},
   "source": [
    "xr.open_mfdataset opens a MultiFile dataset, as opposed to open_dataset\n",
    ".chunk() forces the data into Dask chunks"
   ]
  },
  {
   "cell_type": "code",
   "execution_count": 3,
   "metadata": {
    "collapsed": true
   },
   "outputs": [],
   "source": [
    "#create dataset\n",
    "ds_data = xr.open_dataset(fname, decode_cf=False, autoclose=True)\n",
    "#ds = xr.open_mfdataset(all_files[:10], decode_cf=False, autoclose=True)\n",
    "\n",
    "\n",
    "grid_ds = xr.open_dataset(ddir + 'llc_4320_agulhas_grid.nc').chunk()\n",
    "#print(grid_ds)\n"
   ]
  },
  {
   "cell_type": "markdown",
   "metadata": {},
   "source": [
    "xr.merge() stores grid variables and data variables together"
   ]
  },
  {
   "cell_type": "code",
   "execution_count": 4,
   "metadata": {
    "collapsed": true
   },
   "outputs": [],
   "source": [
    "ds = xr.merge([grid_ds.drop('face'), ds_data.drop('face')], )\n",
    "ds = xmitgcm.mds_store._swap_dimensions(ds, geometry='sphericalpolar')\n",
    "# hack to fix coordinates\n",
    "coord_names = set(grid_ds.coords).intersection(set(ds))\n",
    "ds = ds.set_coords(coord_names)\n",
    "#ds"
   ]
  },
  {
   "cell_type": "code",
   "execution_count": 5,
   "metadata": {},
   "outputs": [
    {
     "data": {
      "text/plain": [
       "<xarray.Dataset>\n",
       "Dimensions:   (XC: 2160, XG: 2160, YC: 2160, YG: 2160, Z: 90, Zl: 90, Zp1: 91, Zu: 90, time: 1)\n",
       "Coordinates:\n",
       "  * YC        (YC) float32 -57.001 -56.99 -56.9789 -56.9678 -56.9567 ...\n",
       "  * YG        (YG) float32 -57.0066 -56.9955 -56.9844 -56.9733 -56.9623 ...\n",
       "  * XC        (XC) float32 -15.4896 -15.4688 -15.4479 -15.4271 -15.4062 ...\n",
       "  * XG        (XG) float32 -15.5 -15.4792 -15.4583 -15.4375 -15.4167 ...\n",
       "  * Zp1       (Zp1) float32 0.0 -1.0 -2.14 -3.44 -4.93 -6.63 -8.56 -10.76 ...\n",
       "  * Z         (Z) float32 -0.5 -1.57 -2.79 -4.185 -5.78 -7.595 -9.66 -12.01 ...\n",
       "  * Zl        (Zl) float32 0.0 -1.0 -2.14 -3.44 -4.93 -6.63 -8.56 -10.76 ...\n",
       "  * Zu        (Zu) float32 -1.0 -2.14 -3.44 -4.93 -6.63 -8.56 -10.76 -13.26 ...\n",
       "    rA        (YC, XC) float32 1.5528e+06 1.5528e+06 1.5528e+06 1.5528e+06 ...\n",
       "    rAw       (YC, XG) float32 1.5528e+06 1.5528e+06 1.5528e+06 1.5528e+06 ...\n",
       "    rAs       (YG, XC) float32 9.96921e+36 9.96921e+36 9.96921e+36 ...\n",
       "    rAz       (YG, XG) float32 1.55245e+06 1.55245e+06 1.55245e+06 ...\n",
       "    dxG       (YG, XC) float32 1261.27 1261.27 1261.27 1261.27 1261.27 ...\n",
       "    dyG       (YC, XG) float32 1230.96 1230.96 1230.96 1230.96 1230.96 ...\n",
       "    dxC       (YC, XG) float32 1261.46 1261.46 1261.46 1261.46 1261.46 ...\n",
       "    Depth     (YC, XC) float32 4578.67 4611.09 4647.6 4674.88 4766.75 ...\n",
       "    dyC       (YG, XC) float32 1230.86 1230.86 1230.86 1230.86 1230.86 ...\n",
       "    PHrefF    (Zp1) float32 0.0 9.81 20.9934 33.7464 48.3633 65.0403 83.9736 ...\n",
       "    drF       (Z) float32 1.0 1.14 1.3 1.49 1.7 1.93 2.2 2.5 2.84 3.21 3.63 ...\n",
       "    PHrefC    (Z) float32 4.905 15.4017 27.3699 41.0549 56.7018 74.507 ...\n",
       "    drC       (Zp1) float32 0.5 1.07 1.22 1.395 1.595 1.815 2.065 2.35 2.67 ...\n",
       "    hFacW     (Z, YC, XG) float32 1.0 1.0 1.0 1.0 1.0 1.0 1.0 1.0 1.0 1.0 ...\n",
       "    hFacS     (Z, YG, XC) float32 1.0 1.0 1.0 1.0 1.0 1.0 1.0 1.0 1.0 1.0 ...\n",
       "    hFacC     (Z, YC, XC) float32 1.0 1.0 1.0 1.0 1.0 1.0 1.0 1.0 1.0 1.0 ...\n",
       "  * time      (time) float64 2.592e+05\n",
       "Data variables:\n",
       "    Eta       (time, YC, XC) float32 -1.28886 -1.28811 -1.2871 -1.28567 ...\n",
       "    PhiBot    (time, YC, XC) float32 0.0 0.0 0.0 0.0 0.0 0.0 0.0 0.0 0.0 0.0 ...\n",
       "    SIarea    (time, YC, XC) float32 0.0 0.0 0.0 0.0 0.0 0.0 0.0 0.0 0.0 0.0 ...\n",
       "    SIheff    (time, YC, XC) float32 0.0 0.0 0.0 0.0 0.0 0.0 0.0 0.0 0.0 0.0 ...\n",
       "    SIhsalt   (time, YC, XC) float32 0.0 0.0 0.0 0.0 0.0 0.0 0.0 0.0 0.0 0.0 ...\n",
       "    SIhsnow   (time, YC, XC) float32 0.0 0.0 0.0 0.0 0.0 0.0 0.0 0.0 0.0 0.0 ...\n",
       "    SIuice    (time, YC, XG) float32 -0.041163 -0.0487612 -0.0614498 ...\n",
       "    SIvice    (time, YG, XC) float32 0.0516454 0.0523205 0.0308559 ...\n",
       "    Salt      (time, Z, YC, XC) float32 33.7534 33.7652 33.7755 33.7723 ...\n",
       "    Theta     (time, Z, YC, XC) float32 -1.31868 -1.27825 -1.21401 -1.17964 ...\n",
       "    U         (time, Z, YC, XG) float32 0.0281392 0.0203967 0.0075199 ...\n",
       "    V         (time, Z, YG, XC) float32 0.0491903 0.0496442 0.0276739 ...\n",
       "    W         (time, Zl, YC, XC) float32 -2.27453e-05 -2.28018e-05 ...\n",
       "    iter      (time) int64 10368\n",
       "    oceFWflx  (time, YC, XC) float32 0.0 0.0 0.0 0.0 0.0 0.0 0.0 0.0 0.0 0.0 ...\n",
       "    oceQnet   (time, YC, XC) float32 0.0 0.0 0.0 0.0 0.0 0.0 0.0 0.0 0.0 0.0 ...\n",
       "    oceQsw    (time, YC, XC) float32 0.0 0.0 0.0 0.0 0.0 0.0 0.0 0.0 0.0 0.0 ...\n",
       "    oceSflux  (time, YC, XC) float32 0.0 0.0 0.0 0.0 0.0 0.0 0.0 0.0 0.0 0.0 ...\n",
       "    oceTAUX   (time, YC, XG) float32 0.0 0.0 0.0 0.0 0.0 0.0 0.0 0.0 0.0 0.0 ...\n",
       "    oceTAUY   (time, YG, XC) float32 0.0 0.0 0.0 0.0 0.0 0.0 0.0 0.0 0.0 0.0 ..."
      ]
     },
     "execution_count": 5,
     "metadata": {},
     "output_type": "execute_result"
    }
   ],
   "source": [
    "ds"
   ]
  },
  {
   "cell_type": "code",
   "execution_count": null,
   "metadata": {
    "collapsed": true
   },
   "outputs": [],
   "source": [
    "#Test out some spectra to see what detrending does\n",
    "\n",
    "x = np.linspace(0, 2*np.pi, 100)\n",
    "f =  1 + x + np.cos(2*np.pi*x)\n",
    "f_notrend = np.cos(2*np.pi*x)\n",
    "test_data = xr.DataArray(f, dims=['x'], coords={'x': x} )\n",
    "test_data_notrend = xr.DataArray(f_notrend, dims=['x'], coords={'x': x} )\n",
    "\n",
    "test_data.plot()\n",
    "test_data_notrend.plot()\n",
    "\n",
    "# x = np.linspace(0, 2*np.pi, 100)\n",
    "# f =  1 + x + np.cos(x * 5)\n",
    "# f_notrend = np.cos(x * 5)\n",
    "# test_data = xr.DataArray(f, dims=['x'], coords={'x': x} )\n",
    "# test_data_notrend = xr.DataArray(f_notrend, dims=['x'], coords={'x': x} )\n",
    "\n",
    "# test_data.plot()\n",
    "# test_data_notrend.plot()"
   ]
  },
  {
   "cell_type": "code",
   "execution_count": null,
   "metadata": {
    "collapsed": true
   },
   "outputs": [],
   "source": []
  },
  {
   "cell_type": "code",
   "execution_count": null,
   "metadata": {
    "collapsed": true
   },
   "outputs": [],
   "source": [
    "test_transform = xrft.dft(test_data).sel(freq_x=slice(0, np.inf))\n",
    "test_transform_notrend = xrft.dft(test_data_notrend).sel(freq_x = slice(0, np.inf))\n",
    "plot_spectrum_loglog(test_transform)\n",
    "#test_transform.plot()\n",
    "#test_transform_notrend.plot()\n",
    "\n",
    "#np.real((np.conj(test_transform)*test_transform)).plot()\n",
    "np.real((np.conj(test_transform_notrend)*test_transform_notrend)).plot()"
   ]
  },
  {
   "cell_type": "code",
   "execution_count": null,
   "metadata": {
    "collapsed": true
   },
   "outputs": [],
   "source": [
    "#test_ps = xrft.power_spectrum(test_data).sel(freq_x=slice(0, np.inf))\n",
    "\n",
    "def plot_spectrum_loglog(ps, ax=None):\n",
    "    if ax is None:\n",
    "        fig, ax = plt.subplots()\n",
    "    ps.plot(ax=ax)\n",
    "    #ax.set_xscale('log')\n",
    "    ax.set_yscale('log')\n",
    "    stack = traceback.extract_stack()\n",
    "    filename, lineno, function_name, code = stack[-2]\n",
    "    vars_name = re.compile(r'\\((.*?)\\).*$').search(code).groups()[0]\n",
    "    \n",
    "    ax.set_ylabel('%s' %vars_name)\n",
    "    return ax\n",
    "    \n",
    "#plot_spectrum_loglog(test_ps)\n",
    "#plt.ylim((1e-8, 10))"
   ]
  },
  {
   "cell_type": "code",
   "execution_count": null,
   "metadata": {
    "collapsed": true
   },
   "outputs": [],
   "source": []
  },
  {
   "cell_type": "code",
   "execution_count": null,
   "metadata": {
    "collapsed": true
   },
   "outputs": [],
   "source": [
    "# test_ps_detrended = xrft.power_spectrum(test_data, detrend='linear').sel(freq_x=slice(0, np.inf))\n",
    "# plot_spectrum_loglog(test_ps_detrended)\n",
    "# plt.ylim((1e-8, 10))\n",
    "\n",
    "\n",
    "# test_ps_notrend = xrft.power_spectrum(test_data_notrend, detrend=False).sel(freq_x=slice(0, np.inf))\n",
    "# plot_spectrum_loglog(test_ps_notrend)"
   ]
  },
  {
   "cell_type": "code",
   "execution_count": null,
   "metadata": {
    "collapsed": true
   },
   "outputs": [],
   "source": [
    "def degrees_to_km(array, lon_0=None):\n",
    "    \"\"\"\n",
    "    Parameters\n",
    "    ----------\n",
    "    array : DataArray, must be sliced at a single \n",
    "    value of lat ('YC'). Must have 'XC' as a coordinate variable\n",
    "    corresponding to degrees lon\n",
    "    \n",
    "    lon_0 : float; longitude from which distances are calculated\n",
    "    \n",
    "    \n",
    "    Returns\n",
    "    -------\n",
    "    Same DataArray with coordinate 'XC' replaced by distance \n",
    "    from Western most longitude, measured in km\n",
    "\n",
    "        \n",
    "    \"\"\"\n",
    "    \n",
    "    \n",
    "    # Takes in DataArray as argument. Array must be sliced \n",
    "    # at a single 'YC' value. Returns DataArry with same variable values but 'XC'\n",
    "    # coordinates replaced with 'km'. Lon_0 coordinate is mapped to 0 km, and all distances\n",
    "    # in km are distances from there\n",
    "    \n",
    "    a = 6378.1370 \n",
    "    b = 6356.7523 \n",
    "    lat = array.coords['YC'].values\n",
    "    lon = array.coords['XC'].values\n",
    "    lat_rad = lat*np.pi/180\n",
    "    lon_rad = lon*np.pi/180\n",
    "    Radius = np.sqrt((((a**2)*np.cos(lat_rad))**2 + ((b**2)*np.sin(lat_rad))**2)/((a*np.cos(lat_rad))**2 + (b*np.sin(lat_rad))**2))   \n",
    "    kilometers = np.zeros(len(array))\n",
    "    \n",
    "    if lon_0 == None:\n",
    "        lon_0 = lon[0]\n",
    "    \n",
    "    \n",
    "    for i in range(0, len(array)):\n",
    "        kilometers[i] = (np.pi*Radius*np.cos(lat_rad)*(lon[i]-lon_0))/180\n",
    "    \n",
    "    out = array.copy()\n",
    "    \n",
    "    \n",
    "    out.coords['XC']= kilometers\n",
    "    out = out.rename({'XC': 'km'})\n",
    "    \n",
    "    return out\n",
    "    "
   ]
  },
  {
   "cell_type": "markdown",
   "metadata": {},
   "source": [
    "What happens to the spectra when land is included? How do we handle it?"
   ]
  },
  {
   "cell_type": "code",
   "execution_count": null,
   "metadata": {
    "collapsed": true
   },
   "outputs": [],
   "source": [
    "print (ds.Theta)\n",
    "ds.Theta[0, 0].plot(vmin = -2, vmax = 25)"
   ]
  },
  {
   "cell_type": "code",
   "execution_count": null,
   "metadata": {
    "collapsed": true
   },
   "outputs": [],
   "source": [
    "theta_line_0_10  = ds.Theta[0, 0].sel(YC=-30, method='nearest').sel(XC = slice(0, 10))\n",
    "theta_line_5_15  = ds.Theta[0, 0].sel(YC=-30, method='nearest').sel(XC = slice(5, 15))\n",
    "theta_line_10_20 = ds.Theta[0, 0].sel(YC=-30, method='nearest').sel(XC = slice(10, 20))\n",
    "theta_line_0_20  = ds.Theta[0, 0].sel(YC=-30, method='nearest').sel(XC = slice(0, 20))\n",
    "\n",
    "theta_line_0_10  = degrees_to_km(theta_line_0_10.copy(), lon_0 =0)\n",
    "theta_line_5_15  = degrees_to_km(theta_line_5_15.copy(), lon_0 =0)\n",
    "theta_line_10_20 = degrees_to_km(theta_line_10_20.copy(), lon_0 = 0)\n",
    "theta_line_0_20  = degrees_to_km(theta_line_0_20.copy(), lon_0 = 0)\n",
    "\n",
    "\n",
    "theta_line_0_20_masked = theta_line_0_20.where(theta_line_0_20.values>0)\n"
   ]
  },
  {
   "cell_type": "code",
   "execution_count": null,
   "metadata": {
    "collapsed": true
   },
   "outputs": [],
   "source": []
  },
  {
   "cell_type": "code",
   "execution_count": null,
   "metadata": {
    "collapsed": true
   },
   "outputs": [],
   "source": [
    "#print(theta_line_0_20)\n",
    "#print(theta_line_0_20_masked.values)\n",
    "\n",
    "#Masking replaces data values with NaNs"
   ]
  },
  {
   "cell_type": "code",
   "execution_count": null,
   "metadata": {
    "collapsed": true
   },
   "outputs": [],
   "source": [
    "#Masked values are NaNs; fourier transform on NaNs fails.\n",
    "\n",
    "theta_0_10 = xrft.power_spectrum(theta_line_0_10).sel(freq_km = slice(0, np.inf))\n",
    "theta_5_15 = xrft.power_spectrum(theta_line_5_15).sel(freq_km = slice(0, np.inf))\n",
    "theta_10_20 = xrft.power_spectrum(theta_line_10_20).sel(freq_km=slice(0, np.inf))\n",
    "theta_0_20 = xrft.power_spectrum(theta_line_0_20).sel(freq_km=slice(0, np.inf))\n",
    "#theta_0_20_masked = xrft.power_spectrum(theta_line_0_20_masked).sel(freq_km=slice(0, np.inf))\n",
    "\n",
    "\n",
    "theta_detrend_0_10  = xrft.power_spectrum(theta_line_0_10,   detrend = 'linear').sel(freq_km=slice(0, np.inf))\n",
    "theta_detrend_5_15  = xrft.power_spectrum(theta_line_5_15,   detrend = 'linear').sel(freq_km=slice(0, np.inf))\n",
    "theta_detrend_10_20 = xrft.power_spectrum(theta_line_10_20,  detrend = 'linear').sel(freq_km=slice(0, np.inf))\n",
    "theta_detrend_0_20  = xrft.power_spectrum(theta_line_0_20,   detrend = 'linear').sel(freq_km=slice(0, np.inf))\n",
    "#theta_detrend_0_20_masked  = xrft.power_spectrum(theta_line_0_20_masked,   detrend = 'linear').sel(freq_km=slice(0, np.inf))\n",
    "\n",
    "\n",
    "theta_window_0_10 = xrft.power_spectrum(theta_line_0_10, detrend = 'linear', window = True).sel(freq_km=slice(0, np.inf))\n",
    "theta_window_5_15 = xrft.power_spectrum(theta_line_5_15, detrend = 'linear', window = True).sel(freq_km=slice(0, np.inf))\n",
    "theta_window_10_20 = xrft.power_spectrum(theta_line_10_20, detrend = 'linear', window = True).sel(freq_km=slice(0, np.inf))\n",
    "theta_window_0_20 = xrft.power_spectrum(theta_line_0_20, detrend = 'linear', window = True).sel(freq_km=slice(0, np.inf))\n",
    "#theta_window_0_20_masked = xrft.power_spectrum(theta_line_0_20_masked, detrend = 'linear', window = True).sel(freq_km=slice(0, np.inf))\n",
    "\n",
    "\n"
   ]
  },
  {
   "cell_type": "code",
   "execution_count": null,
   "metadata": {
    "collapsed": true
   },
   "outputs": [],
   "source": [
    "print(len(theta_line_0_10.km.values))\n",
    "print(len(theta_line_0_10.values))\n",
    "\n",
    "\n",
    "x = theta_line_0_10.km.values\n",
    "y = theta_line_0_10.values\n",
    "slope, intercept, r_value, p_value, std_err = scipy.stats.linregress(x,y)\n",
    "print(slope, intercept)"
   ]
  },
  {
   "cell_type": "code",
   "execution_count": null,
   "metadata": {
    "collapsed": true
   },
   "outputs": [],
   "source": [
    "theta_line_0_10.plot()\n",
    "\n",
    "x = theta_line_0_10.km.values\n",
    "y = theta_line_0_10.values\n",
    "\n",
    "slope, intercept, r_value, p_value, std_err = scipy.stats.linregress(x,y)\n",
    "\n",
    "fig = plt.figure()\n",
    "ax = fig.add_subplot(111)\n",
    "#ax.plot(x, y)\n",
    "#ax.plot(x, slope*x+intercept)\n",
    "ax.plot(x, y - (slope*x+intercept))\n",
    "plt.show()\n",
    "\n",
    "\n",
    "plot_spectrum_loglog(theta_0_10)\n",
    "\n",
    "\n",
    "\n",
    "\n",
    "plot_spectrum_loglog(theta_detrend_0_10)\n",
    "\n",
    "plot_spectrum_loglog(theta_window_0_10)"
   ]
  },
  {
   "cell_type": "code",
   "execution_count": null,
   "metadata": {
    "collapsed": true
   },
   "outputs": [],
   "source": [
    "theta_line_5_15.plot()\n",
    "\n",
    "\n",
    "\n",
    "ax.set_ylim(15, 16.5)\n",
    "\n",
    "\n",
    "plot_spectrum_loglog(theta_5_15)\n",
    "\n",
    "plot_spectrum_loglog(theta_detrend_5_15)\n",
    "\n",
    "plot_spectrum_loglog(theta_window_5_15)"
   ]
  },
  {
   "cell_type": "code",
   "execution_count": null,
   "metadata": {
    "collapsed": true
   },
   "outputs": [],
   "source": [
    "theta_line_10_20.values"
   ]
  },
  {
   "cell_type": "code",
   "execution_count": null,
   "metadata": {
    "collapsed": true
   },
   "outputs": [],
   "source": [
    "fig, ax = plt.subplots()\n",
    "theta_line_10_20.plot(ax=ax)\n",
    "ax.set_ylim(15, 16.5)\n",
    "\n",
    "\n",
    "\n",
    "plot_spectrum_loglog(theta_10_20) \n",
    "plot_spectrum_loglog(theta_detrend_10_20)\n",
    "plot_spectrum_loglog(theta_window_10_20)"
   ]
  },
  {
   "cell_type": "code",
   "execution_count": null,
   "metadata": {
    "collapsed": true
   },
   "outputs": [],
   "source": [
    "\n",
    "fig, ax = plt.subplots()\n",
    "theta_line_0_20.plot(ax = ax)\n",
    "ax.set_ylim(15, 16.5)\n",
    "\n",
    "plot_spectrum_loglog(theta_0_20)\n",
    "plot_spectrum_loglog(theta_detrend_0_20)\n",
    "plot_spectrum_loglog(theta_window_0_20)\n",
    "\n",
    "\n",
    "    "
   ]
  },
  {
   "cell_type": "code",
   "execution_count": null,
   "metadata": {
    "collapsed": true
   },
   "outputs": [],
   "source": [
    "\n",
    "\n",
    "\n"
   ]
  },
  {
   "cell_type": "code",
   "execution_count": null,
   "metadata": {
    "collapsed": true
   },
   "outputs": [],
   "source": [
    "\n",
    "\n",
    "\n",
    "\n",
    "\n",
    "\n",
    "#plot_spectrum_loglog(theta_window_10_20)\n"
   ]
  },
  {
   "cell_type": "code",
   "execution_count": null,
   "metadata": {
    "collapsed": true
   },
   "outputs": [],
   "source": []
  },
  {
   "cell_type": "code",
   "execution_count": null,
   "metadata": {
    "collapsed": true
   },
   "outputs": [],
   "source": [
    "\n",
    "\n",
    "\n"
   ]
  },
  {
   "cell_type": "code",
   "execution_count": null,
   "metadata": {
    "collapsed": true
   },
   "outputs": [],
   "source": []
  },
  {
   "cell_type": "code",
   "execution_count": null,
   "metadata": {
    "collapsed": true
   },
   "outputs": [],
   "source": []
  },
  {
   "cell_type": "code",
   "execution_count": null,
   "metadata": {
    "collapsed": true
   },
   "outputs": [],
   "source": []
  },
  {
   "cell_type": "code",
   "execution_count": null,
   "metadata": {
    "collapsed": true
   },
   "outputs": [],
   "source": [
    "# Futile attempts to insert multiple coordinate axes (one for each data point in latitude\n",
    "# Seems unlikely to work\n",
    "\n",
    "\n",
    "theta_chunk = ds.Theta[0, 0].isel(YC = slice(5, 10)).sel(XC = slice(0, 5))\n",
    "theta_chunk.shape\n",
    "\n",
    "def degree_to_km2(array):\n",
    "    # Takes in DataArray as argument. Array must \n",
    "    \n",
    "    a = 6378.1370 \n",
    "    b = 6356.7523 \n",
    "    \n",
    "    lon = array.coords['XC'].values\n",
    "    lon_rad = lon*np.pi/180\n",
    "\n",
    "    for i in range(0, len(array.coords['YC'].values))\n",
    "\n",
    "        lat = array[i].coords['YC'].values\n",
    "        lat_rad = lat*np.pi/180\n",
    "        Radius = np.sqrt((((a**2)*np.cos(lat_rad))**2 + ((b**2)*np.sin(lat_rad))**2)/((a*np.cos(lat_rad))**2 + (b*np.sin(lat_rad))**2))   \n",
    "        meters = np.zeros(len(array))\n",
    "\n",
    "    \n",
    "    \n",
    "    for i in range(0, len(array)):\n",
    "        meters[i] = (np.pi*Radius*np.cos(lat_rad)*(lon[i]-lon[0]))/180\n",
    "    \n",
    "    out = array.copy()\n",
    "    \n",
    "    \n",
    "    out.coords['XC']= meters\n",
    "    out = out.rename({'XC': 'km'})\n",
    "    \n",
    "    return meters, array\n",
    "\n"
   ]
  },
  {
   "cell_type": "code",
   "execution_count": null,
   "metadata": {
    "collapsed": true
   },
   "outputs": [],
   "source": [
    "w_line_0_10  = ds.W[0, 0].sel(YC=-30, method='nearest').sel(XC = slice(0, 10))\n",
    "w_line_5_15  = ds.W[0, 0].sel(YC=-30, method='nearest').sel(XC = slice(5, 15))\n",
    "w_line_10_20 = ds.W[0, 0].sel(YC=-30, method='nearest').sel(XC = slice(10, 20))\n",
    "w_line_0_20 = ds.W[0, 0].sel(YC=-30, method='nearest').sel(XC = slice(0, 20))\n",
    "\n",
    "w_line_0_10= degrees_to_km(w_line_0_10.copy())\n",
    "w_line_5_15 = degrees_to_km(w_line_5_15.copy())\n",
    "w_line_10_20 = degrees_to_km(w_line_10_20.copy())\n",
    "w_line_0_20 = degrees_to_km(w_line_0_20.copy())\n"
   ]
  },
  {
   "cell_type": "code",
   "execution_count": null,
   "metadata": {
    "collapsed": true
   },
   "outputs": [],
   "source": [
    "\n",
    "w_0_10 = xrft.power_spectrum(w_line_0_10 ).sel(freq_km = slice(0, np.inf))\n",
    "w_5_15 = xrft.power_spectrum(w_line_5_15 ).sel(freq_km = slice(0, np.inf))\n",
    "w_10_20 = xrft.power_spectrum(w_line_10_20).sel(freq_km=slice(0, np.inf))\n",
    "w_0_20 = xrft.power_spectrum(w_line_0_20 ).sel(freq_km=slice(0, np.inf))\n",
    "\n",
    "\n",
    "w_detrend_0_10 = xrft.power_spectrum(w_line_0_10, detrend = 'linear').sel(freq_km=slice(0, np.inf))\n",
    "w_detrend_5_15 = xrft.power_spectrum(w_line_5_15, detrend = 'linear').sel(freq_km=slice(0, np.inf))\n",
    "w_detrend_10_20 = xrft.power_spectrum(w_line_10_20, detrend = 'linear').sel(freq_km=slice(0, np.inf))\n",
    "w_detrend_0_20 = xrft.power_spectrum(w_line_0_20, detrend = 'linear').sel(freq_km=slice(0, np.inf))\n",
    "\n",
    "w_window_0_10 = xrft.power_spectrum(w_line_0_10, detrend = 'linear', window = True).sel(freq_km=slice(0, np.inf))\n",
    "w_window_5_15 = xrft.power_spectrum(w_line_5_15, detrend = 'linear', window = True).sel(freq_km=slice(0, np.inf))\n",
    "w_window_10_20 = xrft.power_spectrum(w_line_10_20, detrend = 'linear', window = True).sel(freq_km=slice(0, np.inf))\n",
    "w_window_0_20 = xrft.power_spectrum(w_line_0_20, detrend = 'linear', window = True).sel(freq_km=slice(0, np.inf))\n",
    "\n",
    "\n"
   ]
  },
  {
   "cell_type": "code",
   "execution_count": null,
   "metadata": {
    "collapsed": true
   },
   "outputs": [],
   "source": [
    "plot_spectrum_loglog(w_detrend_0_10)\n",
    "plot_spectrum_loglog(w_detrend_5_15)\n",
    "plot_spectrum_loglog(w_detrend_10_20)\n",
    "plot_spectrum_loglog(w_detrend_0_20)"
   ]
  },
  {
   "cell_type": "code",
   "execution_count": null,
   "metadata": {
    "collapsed": true,
    "scrolled": true
   },
   "outputs": [],
   "source": [
    "plot_spectrum_loglog(w_window_0_10)\n",
    "plot_spectrum_loglog(w_window_5_15)\n",
    "plot_spectrum_loglog(w_window_10_20)\n",
    "plot_spectrum_loglog(w_window_0_20)"
   ]
  },
  {
   "cell_type": "code",
   "execution_count": null,
   "metadata": {
    "collapsed": true
   },
   "outputs": [],
   "source": [
    "cs_0_10 = xrft.cross_spectrum(w_line_0_10, theta_line_0_10).sel(freq_km = slice(0, np.infty))\n",
    "cs_0_10_detrend = xrft.cross_spectrum(w_line_0_10, theta_line_0_10, detrend = 'linear').sel(freq_km = slice(0, np.infty))\n",
    "cs_0_10_window = xrft.cross_spectrum(w_line_0_10, theta_line_0_10, detrend = 'linear', window = True).sel(freq_km = slice(0, np.infty))\n",
    "\n"
   ]
  },
  {
   "cell_type": "markdown",
   "metadata": {},
   "source": [
    "$$da1' = da1 - \\overline{da1}; da2' = da2 - \\overline{da2}$$\n",
    "$$cs = \\mathbb{F}(da1') * {\\mathbb{F}(da2')}^*$$"
   ]
  },
  {
   "cell_type": "code",
   "execution_count": null,
   "metadata": {
    "collapsed": true
   },
   "outputs": [],
   "source": [
    "plot_spectrum_loglog(cs_0_10)\n",
    "plot_spectrum_loglog(cs_0_10_detrend)\n",
    "plot_spectrum_loglog(cs_0_10_window)"
   ]
  },
  {
   "cell_type": "code",
   "execution_count": null,
   "metadata": {
    "collapsed": true,
    "scrolled": true
   },
   "outputs": [],
   "source": [
    "# It is not clear to me what xrft.cross_spectrum() is computing. \n",
    "\n",
    "w_line_0_10_var = w_line_0_10 - np.mean(w_line_0_10.values)\n",
    "theta_line_0_10_var = theta_line_0_10 - np.mean(theta_line_0_10.values)\n",
    "\n",
    "option1 = np.conj(xrft.dft(w_line_0_10_var).sel(freq_km = slice(0, np.infty)))*xrft.dft(theta_line_0_10_var).sel(freq_km =slice(0, np.infty))\n",
    "\n",
    "option3 = np.convolve(xrft.dft(w_line_0_10_var).sel(freq_km = slice(0, np.infty)),xrft.dft(theta_line_0_10_var).sel(freq_km =slice(0, np.infty))) \n",
    "                      \n",
    "                      \n",
    "option2 = xrft.cross_spectrum(w_line_0_10_var, theta_line_0_10_var).sel(freq_km = slice(0, np.inf))"
   ]
  },
  {
   "cell_type": "code",
   "execution_count": null,
   "metadata": {
    "collapsed": true
   },
   "outputs": [],
   "source": []
  },
  {
   "cell_type": "code",
   "execution_count": null,
   "metadata": {
    "collapsed": true
   },
   "outputs": [],
   "source": []
  },
  {
   "cell_type": "code",
   "execution_count": null,
   "metadata": {
    "collapsed": true
   },
   "outputs": [],
   "source": []
  },
  {
   "cell_type": "code",
   "execution_count": null,
   "metadata": {
    "collapsed": true
   },
   "outputs": [],
   "source": []
  },
  {
   "cell_type": "code",
   "execution_count": null,
   "metadata": {
    "collapsed": true
   },
   "outputs": [],
   "source": []
  }
 ],
 "metadata": {
  "anaconda-cloud": {},
  "kernelspec": {
   "display_name": "llc_project (Python 3)",
   "language": "python",
   "name": "llc_project"
  },
  "language_info": {
   "codemirror_mode": {
    "name": "ipython",
    "version": 3
   },
   "file_extension": ".py",
   "mimetype": "text/x-python",
   "name": "python",
   "nbconvert_exporter": "python",
   "pygments_lexer": "ipython3",
   "version": "3.5.3"
  }
 },
 "nbformat": 4,
 "nbformat_minor": 2
}
